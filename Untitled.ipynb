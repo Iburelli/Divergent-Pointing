{
 "cells": [
  {
   "cell_type": "code",
   "execution_count": 1,
   "id": "874b42cf",
   "metadata": {},
   "outputs": [],
   "source": [
    "%matplotlib inline\n",
    "import numpy as np\n",
    "import matplotlib.pyplot as plt\n",
    "import matplotlib.cm as cm\n",
    "import pandas as pd"
   ]
  },
  {
   "cell_type": "code",
   "execution_count": 2,
   "id": "6d02b366",
   "metadata": {},
   "outputs": [],
   "source": [
    "filename = 'plots/cfg5_test.txt'    \n",
    "df = pd.read_csv (filename,\n",
    "                  header=0,\n",
    "                  sep=',',\n",
    "                  #skiprows=19,  #salto le info generali, righe contate a mano...\n",
    "                  #skipfooter=2, #esclude le ultime n righe, n=2 in questo caso\n",
    "                  engine='python')"
   ]
  },
  {
   "cell_type": "code",
   "execution_count": 3,
   "id": "dc978a2b",
   "metadata": {},
   "outputs": [
    {
     "data": {
      "text/html": [
       "<div>\n",
       "<style scoped>\n",
       "    .dataframe tbody tr th:only-of-type {\n",
       "        vertical-align: middle;\n",
       "    }\n",
       "\n",
       "    .dataframe tbody tr th {\n",
       "        vertical-align: top;\n",
       "    }\n",
       "\n",
       "    .dataframe thead th {\n",
       "        text-align: right;\n",
       "    }\n",
       "</style>\n",
       "<table border=\"1\" class=\"dataframe\">\n",
       "  <thead>\n",
       "    <tr style=\"text-align: right;\">\n",
       "      <th></th>\n",
       "      <th>mirfak</th>\n",
       "      <th>51.08070872</th>\n",
       "      <th>49.86117929</th>\n",
       "      <th>67.95429658937358</th>\n",
       "      <th>346.0375392248129</th>\n",
       "      <th>2020-02-07T20:00:00.000</th>\n",
       "      <th>CTA North</th>\n",
       "      <th>0.01453</th>\n",
       "      <th>232.94204600953609</th>\n",
       "      <th>3.2427257137550862</th>\n",
       "      <th>initial_point</th>\n",
       "    </tr>\n",
       "  </thead>\n",
       "  <tbody>\n",
       "    <tr>\n",
       "      <th>0</th>\n",
       "      <td>mirfak</td>\n",
       "      <td>51.080709</td>\n",
       "      <td>49.861179</td>\n",
       "      <td>67.350452</td>\n",
       "      <td>342.101268</td>\n",
       "      <td>2020-02-07T20:10:00.000</td>\n",
       "      <td>CTA North</td>\n",
       "      <td>0.01453</td>\n",
       "      <td>230.069395</td>\n",
       "      <td>3.283214</td>\n",
       "      <td>False</td>\n",
       "    </tr>\n",
       "    <tr>\n",
       "      <th>1</th>\n",
       "      <td>mirfak</td>\n",
       "      <td>51.080709</td>\n",
       "      <td>49.861179</td>\n",
       "      <td>67.350452</td>\n",
       "      <td>342.101268</td>\n",
       "      <td>2020-02-07T20:10:00.000</td>\n",
       "      <td>CTA North</td>\n",
       "      <td>0.01453</td>\n",
       "      <td>230.096546</td>\n",
       "      <td>3.282827</td>\n",
       "      <td>True</td>\n",
       "    </tr>\n",
       "    <tr>\n",
       "      <th>2</th>\n",
       "      <td>mirfak</td>\n",
       "      <td>51.080709</td>\n",
       "      <td>49.861179</td>\n",
       "      <td>66.607808</td>\n",
       "      <td>338.437293</td>\n",
       "      <td>2020-02-07T20:20:00.000</td>\n",
       "      <td>CTA North</td>\n",
       "      <td>0.01453</td>\n",
       "      <td>226.177284</td>\n",
       "      <td>3.339713</td>\n",
       "      <td>False</td>\n",
       "    </tr>\n",
       "    <tr>\n",
       "      <th>3</th>\n",
       "      <td>mirfak</td>\n",
       "      <td>51.080709</td>\n",
       "      <td>49.861179</td>\n",
       "      <td>66.607808</td>\n",
       "      <td>338.437293</td>\n",
       "      <td>2020-02-07T20:20:00.000</td>\n",
       "      <td>CTA North</td>\n",
       "      <td>0.01453</td>\n",
       "      <td>226.120304</td>\n",
       "      <td>3.340554</td>\n",
       "      <td>True</td>\n",
       "    </tr>\n",
       "    <tr>\n",
       "      <th>4</th>\n",
       "      <td>mirfak</td>\n",
       "      <td>51.080709</td>\n",
       "      <td>49.861179</td>\n",
       "      <td>65.739676</td>\n",
       "      <td>335.069499</td>\n",
       "      <td>2020-02-07T20:30:00.000</td>\n",
       "      <td>CTA North</td>\n",
       "      <td>0.01453</td>\n",
       "      <td>221.499507</td>\n",
       "      <td>3.410243</td>\n",
       "      <td>False</td>\n",
       "    </tr>\n",
       "  </tbody>\n",
       "</table>\n",
       "</div>"
      ],
      "text/plain": [
       "   mirfak  51.08070872  49.86117929  67.95429658937358  346.0375392248129  \\\n",
       "0  mirfak    51.080709    49.861179          67.350452         342.101268   \n",
       "1  mirfak    51.080709    49.861179          67.350452         342.101268   \n",
       "2  mirfak    51.080709    49.861179          66.607808         338.437293   \n",
       "3  mirfak    51.080709    49.861179          66.607808         338.437293   \n",
       "4  mirfak    51.080709    49.861179          65.739676         335.069499   \n",
       "\n",
       "   2020-02-07T20:00:00.000  CTA North  0.01453  232.94204600953609  \\\n",
       "0  2020-02-07T20:10:00.000  CTA North  0.01453          230.069395   \n",
       "1  2020-02-07T20:10:00.000  CTA North  0.01453          230.096546   \n",
       "2  2020-02-07T20:20:00.000  CTA North  0.01453          226.177284   \n",
       "3  2020-02-07T20:20:00.000  CTA North  0.01453          226.120304   \n",
       "4  2020-02-07T20:30:00.000  CTA North  0.01453          221.499507   \n",
       "\n",
       "   3.2427257137550862 initial_point  \n",
       "0            3.283214         False  \n",
       "1            3.282827          True  \n",
       "2            3.339713         False  \n",
       "3            3.340554          True  \n",
       "4            3.410243         False  "
      ]
     },
     "execution_count": 3,
     "metadata": {},
     "output_type": "execute_result"
    }
   ],
   "source": [
    "df.head()"
   ]
  },
  {
   "cell_type": "code",
   "execution_count": 4,
   "id": "a0f9458e",
   "metadata": {},
   "outputs": [
    {
     "data": {
      "text/plain": [
       "Index(['mirfak', '51.08070872', '49.86117929', '67.95429658937358',\n",
       "       '346.0375392248129', '2020-02-07T20:00:00.000', 'CTA North', '0.01453',\n",
       "       '232.94204600953609', '3.2427257137550862', 'initial_point'],\n",
       "      dtype='object')"
      ]
     },
     "execution_count": 4,
     "metadata": {},
     "output_type": "execute_result"
    }
   ],
   "source": [
    "df.keys()"
   ]
  },
  {
   "cell_type": "code",
   "execution_count": 5,
   "id": "fbe39ce6",
   "metadata": {},
   "outputs": [
    {
     "ename": "AttributeError",
     "evalue": "'DataFrame' object has no attribute 'daytime'",
     "output_type": "error",
     "traceback": [
      "\u001b[0;31m---------------------------------------------------------------------------\u001b[0m",
      "\u001b[0;31mAttributeError\u001b[0m                            Traceback (most recent call last)",
      "\u001b[0;32m/tmp/ipykernel_40649/1521322562.py\u001b[0m in \u001b[0;36m<module>\u001b[0;34m\u001b[0m\n\u001b[1;32m      1\u001b[0m \u001b[0;32mfrom\u001b[0m \u001b[0mastropy\u001b[0m\u001b[0;34m.\u001b[0m\u001b[0mtime\u001b[0m \u001b[0;32mimport\u001b[0m \u001b[0mTime\u001b[0m\u001b[0;34m\u001b[0m\u001b[0;34m\u001b[0m\u001b[0m\n\u001b[1;32m      2\u001b[0m \u001b[0mtime\u001b[0m\u001b[0;34m=\u001b[0m\u001b[0;34m[\u001b[0m\u001b[0;34m]\u001b[0m\u001b[0;34m\u001b[0m\u001b[0;34m\u001b[0m\u001b[0m\n\u001b[0;32m----> 3\u001b[0;31m \u001b[0;32mfor\u001b[0m \u001b[0mt\u001b[0m \u001b[0;32min\u001b[0m \u001b[0mdf\u001b[0m\u001b[0;34m.\u001b[0m\u001b[0mdaytime\u001b[0m\u001b[0;34m:\u001b[0m\u001b[0;34m\u001b[0m\u001b[0;34m\u001b[0m\u001b[0m\n\u001b[0m\u001b[1;32m      4\u001b[0m     \u001b[0mtime\u001b[0m\u001b[0;34m.\u001b[0m\u001b[0mappend\u001b[0m\u001b[0;34m(\u001b[0m\u001b[0mTime\u001b[0m\u001b[0;34m(\u001b[0m\u001b[0mt\u001b[0m\u001b[0;34m,\u001b[0m\u001b[0mformat\u001b[0m\u001b[0;34m=\u001b[0m\u001b[0;34m'isot'\u001b[0m\u001b[0;34m,\u001b[0m \u001b[0mscale\u001b[0m\u001b[0;34m=\u001b[0m\u001b[0;34m'utc'\u001b[0m \u001b[0;34m)\u001b[0m\u001b[0;34m)\u001b[0m\u001b[0;34m\u001b[0m\u001b[0;34m\u001b[0m\u001b[0m\n\u001b[1;32m      5\u001b[0m \u001b[0mdf\u001b[0m\u001b[0;34m.\u001b[0m\u001b[0mdaytime\u001b[0m\u001b[0;34m=\u001b[0m\u001b[0mtime\u001b[0m\u001b[0;34m\u001b[0m\u001b[0;34m\u001b[0m\u001b[0m\n",
      "\u001b[0;32m~/miniconda3/envs/divergent/lib/python3.9/site-packages/pandas/core/generic.py\u001b[0m in \u001b[0;36m__getattr__\u001b[0;34m(self, name)\u001b[0m\n\u001b[1;32m   5463\u001b[0m             \u001b[0;32mif\u001b[0m \u001b[0mself\u001b[0m\u001b[0;34m.\u001b[0m\u001b[0m_info_axis\u001b[0m\u001b[0;34m.\u001b[0m\u001b[0m_can_hold_identifiers_and_holds_name\u001b[0m\u001b[0;34m(\u001b[0m\u001b[0mname\u001b[0m\u001b[0;34m)\u001b[0m\u001b[0;34m:\u001b[0m\u001b[0;34m\u001b[0m\u001b[0;34m\u001b[0m\u001b[0m\n\u001b[1;32m   5464\u001b[0m                 \u001b[0;32mreturn\u001b[0m \u001b[0mself\u001b[0m\u001b[0;34m[\u001b[0m\u001b[0mname\u001b[0m\u001b[0;34m]\u001b[0m\u001b[0;34m\u001b[0m\u001b[0;34m\u001b[0m\u001b[0m\n\u001b[0;32m-> 5465\u001b[0;31m             \u001b[0;32mreturn\u001b[0m \u001b[0mobject\u001b[0m\u001b[0;34m.\u001b[0m\u001b[0m__getattribute__\u001b[0m\u001b[0;34m(\u001b[0m\u001b[0mself\u001b[0m\u001b[0;34m,\u001b[0m \u001b[0mname\u001b[0m\u001b[0;34m)\u001b[0m\u001b[0;34m\u001b[0m\u001b[0;34m\u001b[0m\u001b[0m\n\u001b[0m\u001b[1;32m   5466\u001b[0m \u001b[0;34m\u001b[0m\u001b[0m\n\u001b[1;32m   5467\u001b[0m     \u001b[0;32mdef\u001b[0m \u001b[0m__setattr__\u001b[0m\u001b[0;34m(\u001b[0m\u001b[0mself\u001b[0m\u001b[0;34m,\u001b[0m \u001b[0mname\u001b[0m\u001b[0;34m:\u001b[0m \u001b[0mstr\u001b[0m\u001b[0;34m,\u001b[0m \u001b[0mvalue\u001b[0m\u001b[0;34m)\u001b[0m \u001b[0;34m->\u001b[0m \u001b[0;32mNone\u001b[0m\u001b[0;34m:\u001b[0m\u001b[0;34m\u001b[0m\u001b[0;34m\u001b[0m\u001b[0m\n",
      "\u001b[0;31mAttributeError\u001b[0m: 'DataFrame' object has no attribute 'daytime'"
     ]
    }
   ],
   "source": [
    "from astropy.time import Time\n",
    "time=[]\n",
    "for t in df.daytime:\n",
    "    time.append(Time(t,format='isot', scale='utc' ))\n",
    "df.daytime=time"
   ]
  },
  {
   "cell_type": "code",
   "execution_count": null,
   "id": "287c2268",
   "metadata": {},
   "outputs": [],
   "source": [
    "fig,ax=plt.subplots(figsize=(15,5),nrows=1,ncols=3)\n",
    "for i ,star in enumerate(df.name):\n",
    "    if star == 'mirfak':\n",
    "        if df.tracking[i]=='True':\n",
    "            ax[0].scatter(df['fov(deg2)'][i],df['alt(deg)'][i],marker='*',color='r')\n",
    "            ax[1].scatter(df.daytime[i],df['fov(deg2)'][i],marker='*',color='r')\n",
    "            ax[2].scatter(df.daytime[i],df.average_multiplicity[i],marker='.',color='r')\n",
    "        elif df.tracking[i]=='False':\n",
    "            ax[0].scatter(df['fov(deg2)'][i],df['alt(deg)'][i],marker='.',color='blue')\n",
    "            ax[1].scatter(df.daytime[i],df['fov(deg2)'][i],marker='.',color='blue')\n",
    "            ax[2].scatter(df.daytime[i],df.average_multiplicity[i],marker='.',color='blue')\n",
    "        else:\n",
    "            ax[0].scatter(df['fov(deg2)'][i],df['alt(deg)'][i],marker='+')\n",
    "            ax[1].scatter(df.daytime[i],df['fov(deg2)'][i],marker='+')\n",
    "        ax[0].hlines(24,min(df['fov(deg2)']), 240,linestyle='--')\n",
    "        ax[0].set_title(f\"{star}-ra:{round(df['ra(deg)'][i],2)}-dec:{round(df['dec(deg)'][i],2)}\")\n",
    "        ax[1].set_xticklabels(ax[1].get_xticks(), rotation = 45)\n",
    "        ax[2].set_xticklabels(ax[2].get_xticks(), rotation = 45)\n",
    "\n",
    "plt.show()"
   ]
  },
  {
   "cell_type": "code",
   "execution_count": null,
   "id": "ccf15b10",
   "metadata": {},
   "outputs": [],
   "source": [
    "from astropy.visualization import time_support\n",
    "time_support()  \n",
    "for i,name in enumerate(df.name):\n",
    "    if name=='mirfak':\n",
    "        if df.tracking[i]=='True':\n",
    "            plt.scatter(df.daytime[i],df['fov(deg2)'][i],marker='*',color='r')\n",
    "        elif df.tracking[i]=='False':\n",
    "            plt.scatter(df.daytime[i],df['fov(deg2)'][i],marker='.',color='blue')\n",
    "        else:\n",
    "            plt.scatter(df.daytime[i],df['fov(deg2)'][i],marker='+')\n",
    "        plt.xticks(rotation=45, ha='right')"
   ]
  },
  {
   "cell_type": "code",
   "execution_count": null,
   "id": "d1d386f2",
   "metadata": {},
   "outputs": [],
   "source": [
    "for i,name in enumerate(df.name):\n",
    "    if name=='pollux':\n",
    "        if df.tracking[i]=='True':\n",
    "            plt.scatter(df.daytime[i],df['fov(deg2)'][i],marker='.',color='r')\n",
    "        elif df.tracking[i]=='False':\n",
    "            plt.scatter(df.daytime[i],df['fov(deg2)'][i],marker='.',color='blue')\n",
    "        else:\n",
    "            plt.scatter(df.daytime[i],df['fov(deg2)'][i],marker='+', color='black')\n",
    "        plt.xticks(rotation=45, ha='right')"
   ]
  },
  {
   "cell_type": "code",
   "execution_count": null,
   "id": "b9fced22",
   "metadata": {},
   "outputs": [],
   "source": [
    "for i,name in enumerate(df.name):\n",
    "    if name=='pollux':\n",
    "        if df.tracking[i]=='True':\n",
    "            plt.scatter(df.daytime[i],df.average_multiplicity[i],marker='.',color='r')\n",
    "        elif df.tracking[i]=='False':\n",
    "            plt.scatter(df.daytime[i],df.average_multiplicity[i],marker='.',color='blue')\n",
    "        else:\n",
    "            plt.scatter(df.daytime[i],df.average_multiplicity[i],marker='*', color='black')\n",
    "        plt.hlines(3,min(df.daytime),max(df.daytime),linestyle='--',color='black')\n",
    "        plt.xticks(rotation=45, ha='right')"
   ]
  },
  {
   "cell_type": "code",
   "execution_count": null,
   "id": "e65a8a07",
   "metadata": {},
   "outputs": [],
   "source": [
    "from ctadiv import *"
   ]
  }
 ],
 "metadata": {
  "kernelspec": {
   "display_name": "Python 3 (ipykernel)",
   "language": "python",
   "name": "python3"
  },
  "language_info": {
   "codemirror_mode": {
    "name": "ipython",
    "version": 3
   },
   "file_extension": ".py",
   "mimetype": "text/x-python",
   "name": "python",
   "nbconvert_exporter": "python",
   "pygments_lexer": "ipython3",
   "version": "3.9.4"
  }
 },
 "nbformat": 4,
 "nbformat_minor": 5
}
